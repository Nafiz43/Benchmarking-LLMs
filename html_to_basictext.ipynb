{
 "cells": [
  {
   "cell_type": "code",
   "execution_count": 1,
   "id": "27e18290",
   "metadata": {},
   "outputs": [
    {
     "name": "stdout",
     "output_type": "stream",
     "text": [
      "Requirement already satisfied: openpyxl in c:\\users\\disha\\anaconda3\\lib\\site-packages (3.0.10)\n",
      "Requirement already satisfied: et_xmlfile in c:\\users\\disha\\anaconda3\\lib\\site-packages (from openpyxl) (1.1.0)\n",
      "Note: you may need to restart the kernel to use updated packages.\n"
     ]
    }
   ],
   "source": [
    "pip install openpyxl"
   ]
  },
  {
   "cell_type": "code",
   "execution_count": 3,
   "id": "b29f0ca3",
   "metadata": {},
   "outputs": [
    {
     "name": "stdout",
     "output_type": "stream",
     "text": [
      "Requirement already satisfied: pandas in c:\\users\\disha\\anaconda3\\lib\\site-packages (2.0.3)\n",
      "Requirement already satisfied: beautifulsoup4 in c:\\users\\disha\\anaconda3\\lib\\site-packages (4.12.2)\n",
      "Requirement already satisfied: python-dateutil>=2.8.2 in c:\\users\\disha\\anaconda3\\lib\\site-packages (from pandas) (2.8.2)\n",
      "Requirement already satisfied: pytz>=2020.1 in c:\\users\\disha\\anaconda3\\lib\\site-packages (from pandas) (2023.3.post1)\n",
      "Requirement already satisfied: tzdata>=2022.1 in c:\\users\\disha\\anaconda3\\lib\\site-packages (from pandas) (2023.3)\n",
      "Requirement already satisfied: numpy>=1.21.0 in c:\\users\\disha\\anaconda3\\lib\\site-packages (from pandas) (1.24.3)\n",
      "Requirement already satisfied: soupsieve>1.2 in c:\\users\\disha\\anaconda3\\lib\\site-packages (from beautifulsoup4) (2.4)\n",
      "Requirement already satisfied: six>=1.5 in c:\\users\\disha\\anaconda3\\lib\\site-packages (from python-dateutil>=2.8.2->pandas) (1.16.0)\n",
      "Note: you may need to restart the kernel to use updated packages.\n"
     ]
    }
   ],
   "source": [
    "pip install pandas beautifulsoup4"
   ]
  },
  {
   "cell_type": "code",
   "execution_count": 1,
   "id": "781620e3",
   "metadata": {},
   "outputs": [
    {
     "name": "stdout",
     "output_type": "stream",
     "text": [
      "Converted HTML content in 'dataa.xlsx' to plain text. Output saved to 'output_dataa.xlsx'.\n"
     ]
    }
   ],
   "source": [
    "import pandas as pd\n",
    "from bs4 import BeautifulSoup\n",
    "\n",
    "def html_to_text(html):\n",
    "    \"\"\"Convert HTML to plain text.\"\"\"\n",
    "    soup = BeautifulSoup(html, 'html.parser')\n",
    "    return soup.get_text()\n",
    "\n",
    "def convert_excel_html_to_text(file_path):\n",
    "    \"\"\"Convert HTML content in Excel cells to plain text.\"\"\"\n",
    "    # Read the Excel file into a pandas DataFrame\n",
    "    df = pd.read_excel(file_path)\n",
    "    \n",
    "    # Iterate through each cell in the DataFrame\n",
    "    for index, row in df.iterrows():\n",
    "        for column in df.columns:\n",
    "            cell_value = row[column]\n",
    "            if isinstance(cell_value, str) and '<' in cell_value:\n",
    "                # If the cell contains HTML, convert it to plain text\n",
    "                plain_text = html_to_text(cell_value)\n",
    "                # Replace the cell value with the plain text\n",
    "                df.at[index, column] = plain_text\n",
    "                \n",
    "    # Save the modified DataFrame back to an Excel file\n",
    "    output_file = \"output_\" + file_path\n",
    "    df.to_excel(output_file, index=False)\n",
    "    print(f\"Converted HTML content in '{file_path}' to plain text. Output saved to '{output_file}'.\")\n",
    "\n",
    "# Example usage:\n",
    "if __name__ == \"__main__\":\n",
    "    excel_file_path = \"dataa.xlsx\"  # Provide the path to your Excel file\n",
    "    convert_excel_html_to_text(excel_file_path)\n"
   ]
  },
  {
   "cell_type": "code",
   "execution_count": null,
   "id": "81933534",
   "metadata": {},
   "outputs": [],
   "source": []
  }
 ],
 "metadata": {
  "kernelspec": {
   "display_name": "Python 3 (ipykernel)",
   "language": "python",
   "name": "python3"
  },
  "language_info": {
   "codemirror_mode": {
    "name": "ipython",
    "version": 3
   },
   "file_extension": ".py",
   "mimetype": "text/x-python",
   "name": "python",
   "nbconvert_exporter": "python",
   "pygments_lexer": "ipython3",
   "version": "3.11.5"
  }
 },
 "nbformat": 4,
 "nbformat_minor": 5
}
