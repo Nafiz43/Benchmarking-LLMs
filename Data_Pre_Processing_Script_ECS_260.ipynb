{
  "nbformat": 4,
  "nbformat_minor": 0,
  "metadata": {
    "colab": {
      "provenance": []
    },
    "kernelspec": {
      "name": "python3",
      "display_name": "Python 3"
    },
    "language_info": {
      "name": "python"
    }
  },
  "cells": [
    {
      "cell_type": "code",
      "source": [
        "from lxml import etree\n",
        "import pandas as pd\n",
        "\n",
        "def extract_data_from_xml(xml_file):\n",
        "    parser = etree.XMLParser(recover=True)\n",
        "    tree = etree.parse(xml_file, parser=parser)\n",
        "    root = tree.getroot()\n",
        "\n",
        "    data = []\n",
        "\n",
        "    for row in root.findall('.//row'):\n",
        "        accepted_answer_id = row.get('AcceptedAnswerId')\n",
        "\n",
        "        if accepted_answer_id:\n",
        "            question_id = row.get('Id')\n",
        "            question_title = row.get('Title')\n",
        "            question_body = row.get('Body')\n",
        "            question_tags = row.get('Tags')\n",
        "\n",
        "            accepted_answer_row = root.find(f'.//row[@Id=\"{accepted_answer_id}\"]')\n",
        "\n",
        "            if accepted_answer_row is not None:\n",
        "                accepted_answer_body = accepted_answer_row.get('Body')\n",
        "                data.append({\n",
        "                    'Question Title': question_title,\n",
        "                    'Question Body': question_body,\n",
        "                    'Question Tags': question_tags,\n",
        "                    'Accepted Answer Body': accepted_answer_body\n",
        "                })\n",
        "\n",
        "    return data\n",
        "\n",
        "def save_to_excel(data, output_file):\n",
        "    df = pd.DataFrame(data)\n",
        "    df.to_excel(output_file, index=False)\n",
        "\n",
        "# Replace 'input.xml' and 'output.xlsx' with your actual file paths\n",
        "input_xml_file = 'Posts.xml'\n",
        "output_excel_file = 'output.xlsx'\n",
        "\n",
        "# Extract data from XML and save to Excel\n",
        "data = extract_data_from_xml(input_xml_file)\n",
        "save_to_excel(data, output_excel_file)\n"
      ],
      "metadata": {
        "id": "qxh_JZoU4BHU"
      },
      "execution_count": 14,
      "outputs": []
    },
    {
      "cell_type": "code",
      "source": [],
      "metadata": {
        "id": "cd0CB_hEFKkr"
      },
      "execution_count": null,
      "outputs": []
    }
  ]
}